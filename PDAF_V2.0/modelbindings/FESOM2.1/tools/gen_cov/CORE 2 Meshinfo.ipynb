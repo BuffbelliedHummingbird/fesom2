{
 "cells": [
  {
   "cell_type": "code",
   "execution_count": 78,
   "id": "6f27ba2c",
   "metadata": {},
   "outputs": [],
   "source": [
    "import xarray as xr\n",
    "import numpy as np"
   ]
  },
  {
   "cell_type": "code",
   "execution_count": 79,
   "id": "9aa6a8f8",
   "metadata": {},
   "outputs": [],
   "source": [
    "meshpath = '/work/ollie/clidyn/FESOM2/meshes/core2/'\n",
    "\n",
    "nodefile = 'core2_griddes_nodes.nc'\n",
    "elemfile = 'core2_griddes_elements.nc'\n",
    "\n",
    "nodeinfo = xr.open_dataset(meshpath+nodefile)\n",
    "eleminfo = xr.open_dataset(meshpath+elemfile)"
   ]
  },
  {
   "cell_type": "code",
   "execution_count": 10,
   "id": "d8c02c54",
   "metadata": {},
   "outputs": [],
   "source": [
    "# with open('elems_at_node.txt', 'w') as f:\n",
    "#     for i in np.arange(1,len(nodeinfo.ncells)):\n",
    "#         findelems = np.squeeze(np.where((eleminfo.triag_nodes[:,0]==i) | \\\n",
    "#                                         (eleminfo.triag_nodes[:,1]==i) | \\\n",
    "#                                         (eleminfo.triag_nodes[:,2]==i)))\n",
    "#         f.write(str(len(findelems)))\n",
    "#         f.write('\\n')\n",
    "#         f.write(np.array2string(findelems+1)[1:-1])\n",
    "#         f.write('\\n')"
   ]
  },
  {
   "cell_type": "code",
   "execution_count": 52,
   "id": "cd14ea21",
   "metadata": {},
   "outputs": [
    {
     "name": "stdout",
     "output_type": "stream",
     "text": [
      "Node that has most elements:\n",
      "8894\n",
      "Number of elements at 8894:\n",
      "9\n"
     ]
    }
   ],
   "source": [
    "counts = np.bincount(np.array(eleminfo.triag_nodes).flatten().astype(int))\n",
    "print('Node that has most elements:')\n",
    "print(np.argmax(counts))\n",
    "print('Number of elements at '+str(np.argmax(counts))+':')\n",
    "print(len(np.squeeze(np.where(np.array(eleminfo.triag_nodes).flatten()==np.argmax(counts)))))"
   ]
  },
  {
   "cell_type": "code",
   "execution_count": 95,
   "id": "b455436b",
   "metadata": {},
   "outputs": [],
   "source": [
    "# np.savetxt('nlevels.txt', np.array(eleminfo.depth_lev).astype(int),fmt='%i')"
   ]
  },
  {
   "cell_type": "code",
   "execution_count": 96,
   "id": "f6db1f7c",
   "metadata": {},
   "outputs": [],
   "source": [
    "# np.savetxt('elem_area.txt', np.array(np.round(eleminfo.cell_area).astype(int)),fmt='%i')"
   ]
  },
  {
   "cell_type": "code",
   "execution_count": 97,
   "id": "7a317c02",
   "metadata": {},
   "outputs": [],
   "source": [
    "# np.savetxt('nlevels_nod2D.txt', np.array(nodeinfo.depth_lev).astype(int),fmt='%i')"
   ]
  },
  {
   "cell_type": "code",
   "execution_count": null,
   "id": "0d522c90",
   "metadata": {},
   "outputs": [],
   "source": []
  }
 ],
 "metadata": {
  "kernelspec": {
   "display_name": "Python 3 (ipykernel)",
   "language": "python",
   "name": "python3"
  },
  "language_info": {
   "codemirror_mode": {
    "name": "ipython",
    "version": 3
   },
   "file_extension": ".py",
   "mimetype": "text/x-python",
   "name": "python",
   "nbconvert_exporter": "python",
   "pygments_lexer": "ipython3",
   "version": "3.10.2"
  }
 },
 "nbformat": 4,
 "nbformat_minor": 5
}
