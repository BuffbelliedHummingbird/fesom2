{
 "cells": [
  {
   "cell_type": "code",
   "execution_count": null,
   "metadata": {
    "collapsed": false
   },
   "outputs": [],
   "source": [
    "%matplotlib notebook\n",
    "%load_ext autoreload\n",
    "%autoreload 2"
   ]
  },
  {
   "cell_type": "code",
   "execution_count": null,
   "metadata": {
    "collapsed": false
   },
   "outputs": [],
   "source": [
    "# import standard python packages\n",
    "import sys\n",
    "import numpy as np\n",
    "# import basemap\n",
    "from mpl_toolkits.basemap import Basemap\n",
    "# import FESOM packages\n",
    "sys.path.append(\"./modules/\")\n",
    "from load_mesh_data import *\n",
    "sys.path.append(\"/home/h/hbkdsido/utils/seawater-1.1/\")\n",
    "import seawater as sw\n",
    "from fesom_plot_tools import *\n",
    "import cmocean.cm as cmo\n",
    "\n",
    "# set the paths to the mesh & results\n",
    "result_path ='../results/'\n",
    "runid='fesom'\n",
    "str_id, depth\t='u', 100\n",
    "# specify records and year to read\n",
    "records, year=np.linspace(1,1,1).astype(int), 1948"
   ]
  },
  {
   "cell_type": "code",
   "execution_count": null,
   "metadata": {
    "collapsed": false
   },
   "outputs": [],
   "source": [
    "# read the mesh\n",
    "# set the path to the mesh\n",
    "meshpath  ='/work/ollie/dsidoren/input/fesom2.0/meshes/mesh_CORE2_final/'\n",
    "alpha, beta, gamma=[50, 15, -90]\n",
    "try:\n",
    "\tmesh\n",
    "except NameError:\n",
    "\tprint(\"mesh will be loaded\")\n",
    "\tmesh=load_mesh(meshpath, abg=[alpha, beta, gamma], usepickle = False)\n",
    "else:\n",
    "\tprint(\"mesh with this name already exists and will not be loaded\")"
   ]
  },
  {
   "cell_type": "code",
   "execution_count": null,
   "metadata": {
    "collapsed": false
   },
   "outputs": [],
   "source": [
    "# read the model result from fesom.XXXX.oce.nc\n",
    "data=read_fesom_slice(str_id, records, year, mesh, result_path, runid, ilev=ilev)"
   ]
  },
  {
   "cell_type": "code",
   "execution_count": null,
   "metadata": {
    "collapsed": false
   },
   "outputs": [],
   "source": [
    "# Example 1: plot the 2D slice from data at depth\n",
    "# set the label for the colorbar & contour intervals for ftriplot\n",
    "cbartext, cont = '$^\\circ$C', [-3., 25., .1]\n",
    "cmap=cmo.balance\n",
    "fig = plt.figure(figsize=(12,8))\n",
    "# ftriplot is defined in fesom_plot_tools.py\n",
    "data[data==0]=np.nan\n",
    "[im, map, cbar]=ftriplot(mesh, data, np.arange(cont[0], cont[1]+cont[2], cont[2]), oce='global', cmap=cmap)\n",
    "cbar.set_label(cbartext, fontsize=22)\n",
    "cbar.set_ticks([round(i,4) for i in np.linspace(cont[0], cont[1], 5)])\n",
    "cbar.ax.tick_params(labelsize=22)"
   ]
  },
  {
   "cell_type": "code",
   "execution_count": null,
   "metadata": {
    "collapsed": false
   },
   "outputs": [],
   "source": [
    "# Example 2: comparing to climatology\n",
    "# read the climatology first\n",
    "from climatology import *\n",
    "phc=climatology('phc3/', climname='phc')"
   ]
  },
  {
   "cell_type": "code",
   "execution_count": null,
   "metadata": {
    "collapsed": false
   },
   "outputs": [],
   "source": [
    "# interpolate the data onto the climatology grig\n",
    "[iz, xx, yy, zz]=fesom_2_clim(data, depth, mesh, phc)"
   ]
  },
  {
   "cell_type": "code",
   "execution_count": null,
   "metadata": {
    "collapsed": false
   },
   "outputs": [],
   "source": [
    "# plot the difference to climatology\n",
    "cbartext=('$^\\circ$ C' if (str_id=='temp') else 'psu')\n",
    "cont = [-2., 2., .1]\n",
    "# compute the difference to climatology (only T & S are supported)\n",
    "dd=zz[:,:]-(phc.T[iz,:,:] if (str_id=='temp') else phc.S[iz,:,:])\n",
    "\n",
    "fig = plt.figure(figsize=(12,8))\n",
    "[im, map, cbar]=wplot_xy(xx,yy,dd,np.arange(cont[0], cont[1]+cont[2], cont[2]), cmap=cmo.balance, do_cbar=True)\n",
    "cbar.set_label(cbartext, fontsize=22)\n",
    "cbar.set_ticks([round(i,4) for i in np.linspace(cont[0], cont[1], 5)])\n",
    "cbar.ax.tick_params(labelsize=22)"
   ]
  },
  {
   "cell_type": "code",
   "execution_count": null,
   "metadata": {
    "collapsed": false
   },
   "outputs": [],
   "source": [
    "# Example 3: plot the norm of velocity (given on elements)\n",
    "# read the ocean velocities\n",
    "u=read_fesom_slice('u', records, year, mesh, result_path, runid, ilev=ilev)\n",
    "v=read_fesom_slice('v', records, year, mesh, result_path, runid, ilev=ilev)"
   ]
  },
  {
   "cell_type": "code",
   "execution_count": null,
   "metadata": {
    "collapsed": false
   },
   "outputs": [],
   "source": [
    "# interpolate them onto nodes\n",
    "unodes=np.zeros(shape=mesh.n2d)\n",
    "vnodes=np.zeros(shape=mesh.n2d)\n",
    "\n",
    "var_elem=u*mesh.voltri\n",
    "for i in range(mesh.e2d):\n",
    "    unodes[mesh.elem[i,:]]=unodes[mesh.elem[i,:]]+[var_elem[i], var_elem[i], var_elem[i]]\n",
    "unodes=unodes/mesh.lump2/3.\n",
    "\n",
    "var_elem=v*mesh.voltri\n",
    "for i in range(mesh.e2d):\n",
    "    vnodes[mesh.elem[i,:]]=vnodes[mesh.elem[i,:]]+[var_elem[i], var_elem[i], var_elem[i]]\n",
    "vnodes=vnodes/mesh.lump2/3.\n",
    "\n",
    "\n",
    "data=np.hypot(unodes, vnodes)"
   ]
  },
  {
   "cell_type": "code",
   "execution_count": null,
   "metadata": {
    "collapsed": false
   },
   "outputs": [],
   "source": [
    "# Example 3: plot the velocity norm\n",
    "# set the label for the colorbar & contour intervals for ftriplot\n",
    "cbartext, cont = 'm/s', [0.,.5, 0.01]\n",
    "cmap=cmo.amp\n",
    "fig = plt.figure(figsize=(12,8))\n",
    "# ftriplot is defined in fesom_plot_tools.py\n",
    "data[data==0]=np.nan\n",
    "[im, map, cbar]=ftriplot(mesh, data, np.arange(cont[0], cont[1]+cont[2], cont[2]), oce='global', cmap=cmap)\n",
    "cbar.set_label(cbartext, fontsize=22)\n",
    "cbar.set_ticks([round(i,4) for i in np.linspace(cont[0], cont[1], 5)])\n",
    "cbar.ax.tick_params(labelsize=22)"
   ]
  }
 ],
 "metadata": {
  "anaconda-cloud": {},
  "kernelspec": {
   "display_name": "Python [default]",
   "language": "python",
   "name": "python3"
  },
  "language_info": {
   "codemirror_mode": {
    "name": "ipython",
    "version": 3
   },
   "file_extension": ".py",
   "mimetype": "text/x-python",
   "name": "python",
   "nbconvert_exporter": "python",
   "pygments_lexer": "ipython3",
   "version": "3.5.2"
  }
 },
 "nbformat": 4,
 "nbformat_minor": 2
}
