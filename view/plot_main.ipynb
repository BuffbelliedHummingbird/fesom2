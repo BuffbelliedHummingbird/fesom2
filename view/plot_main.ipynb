{
 "cells": [
  {
   "cell_type": "code",
   "execution_count": null,
   "metadata": {
    "collapsed": false
   },
   "outputs": [],
   "source": [
    "%matplotlib notebook\n",
    "%load_ext autoreload\n",
    "%autoreload 2"
   ]
  },
  {
   "cell_type": "code",
   "execution_count": null,
   "metadata": {
    "collapsed": false
   },
   "outputs": [],
   "source": [
    "# import standard python packages\n",
    "import sys\n",
    "import numpy as np\n",
    "# import basemap\n",
    "from mpl_toolkits.basemap import Basemap\n",
    "# import FESOM packages\n",
    "sys.path.append(\"./modules/\")\n",
    "from load_mesh_data import *\n",
    "sys.path.append(\"/home/h/hbkdsido/utils/seawater-1.1/\")\n",
    "import seawater as sw\n",
    "from fesom_plot_tools import *\n",
    "import cmocean.cm as cmo\n",
    "\n",
    "# set the paths to the mesh & results\n",
    "result_path ='../results/zlevel/withpice/'\n",
    "runid='fesom'\n",
    "str_id, depth\t='sst', 0\n",
    "# specify records and year to read\n",
    "records, year=np.linspace(55,55,1).astype(int), 1948"
   ]
  },
  {
   "cell_type": "code",
   "execution_count": null,
   "metadata": {
    "collapsed": false
   },
   "outputs": [],
   "source": [
    "# read the mesh\n",
    "# set the path to the mesh\n",
    "meshpath  ='/work/ollie/dsidoren/input/fesom2.0/meshes/mesh_CORE2_final/'\n",
    "alpha, beta, gamma=[50, 15, -90]\n",
    "try:\n",
    "\tmesh\n",
    "except NameError:\n",
    "\tprint(\"mesh will be loaded\")\n",
    "\tmesh=load_mesh(meshpath, abg=[alpha, beta, gamma], usepickle = False)\n",
    "else:\n",
    "\tprint(\"mesh with this name already exists and will not be loaded\")"
   ]
  },
  {
   "cell_type": "code",
   "execution_count": null,
   "metadata": {
    "collapsed": false
   },
   "outputs": [],
   "source": [
    "#\tread the model result from fesom.XXXX.oce.nc\n",
    "data\t=read_fesom_2d(str_id, records, year, mesh, result_path, runid)"
   ]
  },
  {
   "cell_type": "code",
   "execution_count": null,
   "metadata": {
    "collapsed": false
   },
   "outputs": [],
   "source": [
    "# Plot the field\n",
    "# set the label for the colorbar & contour intervals for ftriplot\n",
    "cbartext, cont = '$^\\circ$C', [-3., 25., .1]\n",
    "cmap=cmo.balance\n",
    "fig = plt.figure(figsize=(12,8))\n",
    "# ftriplot is defined in fesom_plot_tools.py\n",
    "[im, map, cbar]=ftriplot(mesh, data, np.arange(cont[0], cont[1]+cont[2], cont[2]), oce='global', cmap=cmap)\n",
    "cbar.set_label(cbartext, fontsize=22)\n",
    "cbar.set_ticks([round(i,4) for i in np.linspace(cont[0], cont[1], 5)])\n",
    "cbar.ax.tick_params(labelsize=22)"
   ]
  },
  {
   "cell_type": "code",
   "execution_count": null,
   "metadata": {
    "collapsed": true
   },
   "outputs": [],
   "source": []
  }
 ],
 "metadata": {
  "anaconda-cloud": {},
  "kernelspec": {
   "display_name": "Python [default]",
   "language": "python",
   "name": "python3"
  },
  "language_info": {
   "codemirror_mode": {
    "name": "ipython",
    "version": 3
   },
   "file_extension": ".py",
   "mimetype": "text/x-python",
   "name": "python",
   "nbconvert_exporter": "python",
   "pygments_lexer": "ipython3",
   "version": "3.5.2"
  }
 },
 "nbformat": 4,
 "nbformat_minor": 2
}
