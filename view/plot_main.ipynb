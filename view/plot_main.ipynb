{
 "cells": [
  {
   "cell_type": "markdown",
   "metadata": {
    "collapsed": true,
    "scrolled": true
   },
   "source": [
    "## A basic set of tools for visualizing FESOM2.0 simulations"
   ]
  },
  {
   "cell_type": "code",
   "execution_count": null,
   "metadata": {
    "collapsed": false
   },
   "outputs": [],
   "source": [
    "%matplotlib notebook\n",
    "%load_ext autoreload\n",
    "%autoreload 2"
   ]
  },
  {
   "cell_type": "code",
   "execution_count": null,
   "metadata": {
    "collapsed": true
   },
   "outputs": [],
   "source": [
    "## import standard python packages"
   ]
  },
  {
   "cell_type": "code",
   "execution_count": null,
   "metadata": {
    "collapsed": true
   },
   "outputs": [],
   "source": [
    "# import standard python packages\n",
    "import sys\n",
    "import numpy as np\n",
    "# import basemap\n",
    "from mpl_toolkits.basemap import Basemap\n",
    "# import FESOM packages\n",
    "sys.path.append(\"./modules/\")\n",
    "from load_mesh_data import *\n",
    "sys.path.append(\"/home/h/hbkdsido/utils/seawater-1.1/\")\n",
    "import seawater as sw\n",
    "from fesom_plot_tools import *\n",
    "import cmocean.cm as cmo\n",
    "import matplotlib \n",
    "fontsize=20\n",
    "matplotlib.rc('xtick', labelsize=fontsize) \n",
    "matplotlib.rc('ytick', labelsize=fontsize) "
   ]
  },
  {
   "cell_type": "markdown",
   "metadata": {},
   "source": [
    "## read the mesh"
   ]
  },
  {
   "cell_type": "code",
   "execution_count": null,
   "metadata": {
    "collapsed": false
   },
   "outputs": [],
   "source": [
    "# set the path to the mesh\n",
    "#meshpath  ='/home/ollie/nkolduno/meshes/pi-grid/'\n",
    "meshpath  ='/work/ollie/dsidoren/input/fesom2.0/meshes/mesh_CORE2_etopo5N74/'\n",
    "#meshpath  ='/work/ollie/ogurses/NATMAP/mesh_F2GLO08/'\n",
    "alpha, beta, gamma=[50, 15, -90]\n",
    "#alpha, beta, gamma=[0, 0, 0]\n",
    "try:\n",
    "\tmesh\n",
    "except NameError:\n",
    "\tprint(\"mesh will be loaded\")\n",
    "\tmesh=load_mesh(meshpath, abg=[alpha, beta, gamma], usepickle = False)\n",
    "else:\n",
    "\tprint(\"mesh with this name already exists and will not be loaded\")"
   ]
  },
  {
   "cell_type": "markdown",
   "metadata": {},
   "source": [
    "## Example 1\n",
    "### plot the 2D slice of data at depth"
   ]
  },
  {
   "cell_type": "code",
   "execution_count": null,
   "metadata": {
    "collapsed": false
   },
   "outputs": [],
   "source": [
    "# set the paths to the results, runid, etc.\n",
    "result_path ='../results/run_CORE2noGMSWHO_etopo5//'\n",
    "runid ='fesom'\n",
    "str_id='temp'\n",
    "\n",
    "# specify depth, records and year to read\n",
    "depth, records, year=300, np.linspace(0,0,1).astype(int), 1959\n",
    "\n",
    "# set the label for the colorbar & contour intervals for ftriplot\n",
    "cbartext, cont = '$^\\circ$C', [-1., 3., .1]\n",
    "\n",
    "# get the closest model depth to the desired one\n",
    "ilev=ind_for_depth(depth, mesh)\n",
    "\n",
    "# read the model result from str_id.XXXX.nc\n",
    "data=read_fesom_slice(str_id, records, year, mesh, result_path, runid, ilev=ilev)\n",
    "\n",
    "# choose the colorbar and plot the data\n",
    "cmap=cmo.balance\n",
    "fig =plt.figure(figsize=(12,8))\n",
    "\n",
    "# ftriplot is defined in fesom_plot_tools.py\n",
    "data[data==0]=np.nan\n",
    "[im, map, cbar]=ftriplot(mesh, data, np.linspace(cont[0], cont[1], 20), oce='np', cmap=cmap)\n",
    "cbar.set_label(cbartext, fontsize=22)\n",
    "cbar.set_ticks([round(i,7) for i in np.linspace(cont[0], cont[1], 5)])\n",
    "cbar.ax.tick_params(labelsize=22)"
   ]
  },
  {
   "cell_type": "markdown",
   "metadata": {},
   "source": [
    "## Example 2\n",
    "### comparing to climatology"
   ]
  },
  {
   "cell_type": "code",
   "execution_count": null,
   "metadata": {
    "collapsed": false
   },
   "outputs": [],
   "source": [
    "# read the climatology\n",
    "from climatology import *\n",
    "phc=climatology('phc3/', climname='phc')\n",
    "\n",
    "# set the paths to the results, runid, etc.\n",
    "result_path ='../results/run_CORE2noGMSWHO_etopo5/'\n",
    "runid ='fesom'\n",
    "str_id='temp'\n",
    "\n",
    "# specify depth, records and year to read\n",
    "depth, records, year=1000, np.linspace(0,0,1).astype(int), 1959\n",
    "\n",
    "# set the label for the colorbar & contour intervals for ftriplot\n",
    "cbartext, cont = '$^\\circ$C', [-3., 3., .1]\n",
    "\n",
    "# get the closest model depth to the desired one\n",
    "ilev=ind_for_depth(depth, mesh)\n",
    "\n",
    "# read the model result from str_id.XXXX.nc\n",
    "data=read_fesom_slice(str_id, records, year, mesh, result_path, runid, ilev=ilev)\n",
    "\n",
    "# interpolate the data onto the climatology grig\n",
    "[iz, xx, yy, zz]=fesom_2_clim(data, depth, mesh, phc, radius_of_influence=10000000)\n",
    "\n",
    "# plot the difference to climatology\n",
    "cbartext=('$^\\circ$ C' if (str_id=='temp') else 'psu')\n",
    "\n",
    "# compute the difference to climatology (only T & S are supported)\n",
    "dd=zz[:,:]-(phc.T[iz,:,:] if (str_id=='temp') else phc.S[iz,:,:])\n",
    "\n",
    "# choose the colorbar and plot the data\n",
    "cmap=cmo.balance\n",
    "\n",
    "# wplot_xy is defined in fesom_plot_tools.py\n",
    "fig = plt.figure(figsize=(12,8))\n",
    "[im, map, cbar]=wplot_xy(xx,yy,dd,np.arange(cont[0], cont[1]+cont[2], cont[2]), cmap=cmap, do_cbar=True)\n",
    "cbar.set_label(cbartext, fontsize=22)\n",
    "cbar.set_ticks([round(i,4) for i in np.linspace(cont[0], cont[1], 5)])\n",
    "cbar.ax.tick_params(labelsize=22)\n",
    "plt.title('FESOM2.0: differemce to climatology at ' + np.str(depth)+'m')"
   ]
  },
  {
   "cell_type": "markdown",
   "metadata": {},
   "source": [
    "## Example 3\n",
    "### plot the norm of velocity (given on elements)"
   ]
  },
  {
   "cell_type": "code",
   "execution_count": null,
   "metadata": {
    "collapsed": false
   },
   "outputs": [],
   "source": [
    "# set the paths to the results, runid, etc.\n",
    "result_path ='../results/run_CORE2noGMSWHO_topo/'\n",
    "runid ='fesom'\n",
    "\n",
    "# specify depth, records and year to read\n",
    "depth, records, year=1000, np.linspace(0,0,1).astype(int), 1959\n",
    "\n",
    "# set the label for the colorbar & contour intervals for ftriplot\n",
    "cbartext, cont = 'log scale, m/s', [-5.,0., 0.1]\n",
    "\n",
    "# get the closest model depth to the desired one\n",
    "ilev=ind_for_depth(depth, mesh)\n",
    "\n",
    "# read the ocean velocities\n",
    "u=read_fesom_slice('u', records, year, mesh, result_path, runid, ilev=ilev)\n",
    "v=read_fesom_slice('v', records, year, mesh, result_path, runid, ilev=ilev)\n",
    "# one could use Dataset instead:\n",
    "# f=Dataset('../results/run_8km_noGMHO/fesom.1960.oce.restart.nc')\n",
    "# u=f.variables['u'][0,:,11]\n",
    "# v=f.variables['v'][0,:,11]\n",
    "\n",
    "# velocities on elements will be interpolated onto nodes\n",
    "# allocate the nodal fields\n",
    "unodes=np.zeros(shape=mesh.n2d)\n",
    "vnodes=np.zeros(shape=mesh.n2d)\n",
    "\n",
    "# interpolate original velocities onto nods (unodes, vnodes)\n",
    "var_elem=u*mesh.voltri\n",
    "for i in range(mesh.e2d):\n",
    "    unodes[mesh.elem[i,:]]=unodes[mesh.elem[i,:]]+[var_elem[i], var_elem[i], var_elem[i]]\n",
    "unodes=unodes/mesh.lump2/3.\n",
    "\n",
    "var_elem=v*mesh.voltri\n",
    "for i in range(mesh.e2d):\n",
    "    vnodes[mesh.elem[i,:]]=vnodes[mesh.elem[i,:]]+[var_elem[i], var_elem[i], var_elem[i]]\n",
    "vnodes=vnodes/mesh.lump2/3.\n",
    "\n",
    "# compute the absolute velocity\n",
    "data=np.hypot(unodes, vnodes)\n",
    "\n",
    "# plot the result\n",
    "cmap=cmo.ice\n",
    "fig = plt.figure(figsize=(12,8))\n",
    "# ftriplot is defined in fesom_plot_tools.py\n",
    "data[data==0]=np.nan\n",
    "[im, map, cbar]=ftriplot(mesh, np.log(data), np.arange(cont[0], cont[1]+cont[2], cont[2]), oce='global', cmap=cmap)\n",
    "cbar.set_label(cbartext, fontsize=22)\n",
    "cbar.set_ticks([round(i,4) for i in np.linspace(cont[0], cont[1], 5)])\n",
    "cbar.ax.tick_params(labelsize=22)"
   ]
  },
  {
   "cell_type": "markdown",
   "metadata": {},
   "source": [
    "## Example 4\n",
    "### plot a section"
   ]
  },
  {
   "cell_type": "code",
   "execution_count": null,
   "metadata": {
    "collapsed": false
   },
   "outputs": [],
   "source": [
    "# set the paths to the results, runid, etc.\n",
    "result_path ='../results/run_CORE2noGMSWHO_topo/'\n",
    "runid ='fesom'\n",
    "str_id='temp'\n",
    "\n",
    "# specify records and year to read\n",
    "records, year=np.linspace(0,0,1).astype(int), 1959\n",
    "\n",
    "# set the label for the colorbar & contour intervals for ftriplot\n",
    "cbartext, cont = '$^\\circ$C', [1., 30., .1]\n",
    "\n",
    "# define the section with points p1(x1,y1), p2(x2,y2)\n",
    "p1=np.array([-30.,   -80.])\n",
    "p2=np.array([-30.,    90.])\n",
    "\n",
    "# set the number of descrete points in horizontal and vertical (nxy and nz, respectively) to represent the section\n",
    "nxy=100\n",
    "nz =46\n",
    "\n",
    "# read thesection from the data\n",
    "[sx, sy, sz]=read_fesom_sect(str_id, records, year, mesh, result_path, runid, p1, p2, nxy, nz, \\\n",
    "    how='mean', line_distance=5., radius_of_influence=300000)\n",
    "\n",
    "# replace dummies with NaNs\n",
    "sz[sz>1.e100]=np.nan\n",
    "\n",
    "# plot the result\n",
    "cmap=cmo.balance\n",
    "fig = plt.figure(figsize=(12,8))\n",
    "plt.contourf(sy, mesh.zlev[0:nz], sz, cmap=cmap, levels=np.linspace(cont[0], cont[1], 50), extend='both')\n",
    "plt.xlabel('distance, [degree]', fontsize=fontsize)\n",
    "plt.ylabel('depth, [m]', fontsize=fontsize)\n",
    "cbar=plt.colorbar(orientation=\"horizontal\", pad=.2)\n",
    "cbar.set_ticks([round(i,4) for i in np.linspace(cont[0], cont[1], 5)])\n",
    "cbar.set_label(cbartext, fontsize=fontsize)\n",
    "cbar.set_label(cbartext, fontsize=fontsize)"
   ]
  },
  {
   "cell_type": "markdown",
   "metadata": {},
   "source": [
    "## Example 5\n",
    "### computing MOC from vertical velocity"
   ]
  },
  {
   "cell_type": "code",
   "execution_count": null,
   "metadata": {
    "collapsed": false
   },
   "outputs": [],
   "source": [
    "# set the paths to the results, runid, etc.\n",
    "result_path ='../results/run_CORE2noGMSWHO_topo/'\n",
    "runid ='fesom'\n",
    "\n",
    "# set the label for the colorbar & contour intervals for ftriplot\n",
    "cbartext, cont = 'Sv', [-30., 30., .5]\n",
    "\n",
    "# define a descrete set of latitudes\n",
    "nlats=91\n",
    "lats=np.linspace(-90, 90, nlats)\n",
    "dlat=lats[1]-lats[0]\n",
    "# allocate moc array\n",
    "moc=np.zeros([mesh.nlev, nlats])\n",
    "\n",
    "# read the required metadata (mesh diagnostic file is always created at the cold start)\n",
    "# grid information is needed for computing the MOC\n",
    "ncfile  = Dataset(os.path.join(result_path, runid+'.mesh.diag.nc'))\n",
    "el_area =ncfile.variables['elem_area'][:]\n",
    "nlevels =ncfile.variables['nlevels'][:]-1\n",
    "el_nodes=ncfile.variables['elem'][:,:]-1\n",
    "nodes_x =ncfile.variables['nodes'][0,:]*180./np.pi\n",
    "nodes_y =ncfile.variables['nodes'][1,:]*180./np.pi\n",
    "\n",
    "# compute lon/lat coordinate of an element required lated for binning\n",
    "elem_x  =nodes_x[el_nodes].sum(axis=0)/3.\n",
    "elem_y  =nodes_y[el_nodes].sum(axis=0)/3.\n",
    "\n",
    "# specify records and year to read\n",
    "records, year=np.linspace(0,0,1).astype(int), 1959\n",
    "\n",
    "# compute MOC\n",
    "# precompute positions of elements for binning\n",
    "pos=np.zeros([mesh.e2d])\n",
    "for e in range(mesh.e2d):\n",
    "    pos[e]=int((elem_y[e]-lats[0])/dlat)\n",
    "\n",
    "# compute contributions from vertical velocities on elements and put them into bins\n",
    "for i in range(mesh.nlev):\n",
    "# read the model result from fesom.XXXX.oce.nc\n",
    "    w=read_fesom_slice('w', records, year, mesh, result_path, runid, ilev=i)\n",
    "    print(i)\n",
    "    for e in range(mesh.e2d):\n",
    "        if (i <= nlevels[e]-1):\n",
    "            moc[i, pos[e]]=moc[i, pos[e]]+el_area[e]*np.sum(w[el_nodes[:,e]])/3.*1.e-6\n",
    "\n",
    "# the result from the previous step needs to be cumulatively summed \n",
    "for i in range(nlats):\n",
    "    moc[:, i]=moc[:, i]+moc[:, i-1]\n",
    "\n",
    "# plot the result\n",
    "cmap=cmo.balance\n",
    "fig = plt.figure(figsize=(12,8))\n",
    "plt.contourf(lats, mesh.zlev, moc2, cmap=cmap, levels=np.linspace(cont[0], cont[1], 50), extend='both')\n",
    "plt.xlabel('latitude, [degree]', fontsize=fontsize)\n",
    "plt.ylabel('depth, [m]', fontsize=fontsize)\n",
    "cbar=plt.colorbar(orientation=\"horizontal\", pad=.2)\n",
    "cbar.set_ticks([round(i,4) for i in np.linspace(cont[0], cont[1], 5)])\n",
    "cbar.set_label(cbartext, fontsize=fontsize)\n",
    "cbar.set_label(cbartext, fontsize=fontsize)    "
   ]
  },
  {
   "cell_type": "markdown",
   "metadata": {
    "collapsed": false
   },
   "source": [
    "## Auxuary things, manipulations with the topography\n",
    "### closing the Gibraltar Strait ny betting the depth there to 20m\n",
    "### !mesh needs to be repartitioned afterwards!\n"
   ]
  },
  {
   "cell_type": "code",
   "execution_count": null,
   "metadata": {
    "collapsed": true
   },
   "outputs": [],
   "source": [
    "# find nodes around Gibraltar\n",
    "ind=(mesh.x2 > -6.5) & (mesh.x2 < -3.5) & (mesh.y2 > 34.5) & (mesh.y2 < 37.5)\n",
    "ind=[i for (i, val) in enumerate(ind) if (val)]\n",
    "\n",
    "# read mesh topography from file (in case we do not trust already loaded mesh information data)\n",
    "topofile='/work/ollie/dsidoren/input/fesom2.0/meshes/mesh_CORE2_noGib/aux3d.out'\n",
    "with open(topofile) as f:\n",
    "     nlev=int(next(f))\n",
    "     zlev=np.array([next(f).rstrip() for x in range(nlev)]).astype(float)\n",
    "     topo=np.array([next(f).rstrip() for x in range(mesh.n2d)]).astype(float)\n",
    "\n",
    "# set depth around Gibraltar to 20m and save it into different mesh file\n",
    "topo[ind]=topo[ind]=-20.\n",
    "\n",
    "# create the new aux3d.out\n",
    "topofile_new='/work/ollie/dsidoren/input/fesom2.0/meshes/mesh_CORE2_noGib/aux3d.out.new'\n",
    "f = open(topofile_new, 'w')\n",
    "f.write(str(nlev)+'\\n')\n",
    "for depth in zlev:\n",
    "    f.write(str(depth)+'\\n')   \n",
    "for depth in topo:\n",
    "    f.write(str(depth)+'\\n')\n",
    "f.close()"
   ]
  },
  {
   "cell_type": "markdown",
   "metadata": {
    "collapsed": true
   },
   "source": [
    "### increasing the amount of vertical levels to that from NEMO (74 levels)\n",
    "### read the prepared on the mesh etopo5 topography\n",
    "### skip the second and third level in order do improve CFL\n",
    "### !mesh needs to be repartitioned afterwards!"
   ]
  },
  {
   "cell_type": "code",
   "execution_count": null,
   "metadata": {
    "collapsed": true
   },
   "outputs": [],
   "source": [
    "meshpath  ='/work/ollie/dsidoren/input/fesom2.0/meshes/mesh_CORE2_final/'\n",
    "nf=Dataset(meshpath+'etopo.nc') # ETOPO5 topography already prepared\n",
    "topo=nf.variables['topo'][:]\n",
    "topo[topo >=     0]=-10.\n",
    "topo[topo < -6500]=-6500.\n",
    "# read the NEMO 74 vertical levels\n",
    "nf=Dataset('/work/ollie/dsidoren/input/fesom2.0/NEMO_levels74.nc')\n",
    "levels=-nf.variables['gdepw_0'][0,:]\n",
    "# skip the very upper except for the first leveld in order to improve CFL\n",
    "# add more depths\n",
    "levels=np.concatenate((levels[[0, 4]], levels[5:], np.array([levels[-1]+levels[-1]-levels[-2], -6250])))\n",
    "N=len(levels)\n",
    "\n",
    "# create the new aux3d.out\n",
    "topofile_new='/work/ollie/dsidoren/input/fesom2.0/meshes/mesh_CORE2_final/aux3d.out.etopo5N74'\n",
    "f = open(topofile_new, 'w')\n",
    "f.write(str(N)+'\\n')\n",
    "for depth in levels:\n",
    "    f.write(str(depth)+'\\n')   \n",
    "for depth in topo:\n",
    "    f.write(str(depth)+'\\n')\n",
    "f.close()"
   ]
  }
 ],
 "metadata": {
  "anaconda-cloud": {},
  "kernelspec": {
   "display_name": "Python [default]",
   "language": "python",
   "name": "python3"
  },
  "language_info": {
   "codemirror_mode": {
    "name": "ipython",
    "version": 3
   },
   "file_extension": ".py",
   "mimetype": "text/x-python",
   "name": "python",
   "nbconvert_exporter": "python",
   "pygments_lexer": "ipython3",
   "version": "3.5.2"
  }
 },
 "nbformat": 4,
 "nbformat_minor": 2
}
